{
 "cells": [
  {
   "cell_type": "code",
   "execution_count": 1,
   "metadata": {},
   "outputs": [],
   "source": [
    "import poamlib\n",
    "import pandas as pd\n",
    "import json\n",
    "from tqdm import tqdm\n",
    "import poam_pb2\n",
    "import base64"
   ]
  },
  {
   "cell_type": "code",
   "execution_count": 2,
   "metadata": {},
   "outputs": [],
   "source": [
    "# Load input data from JSON file\n",
    "with open(\"experiments.json\", \"r\") as infile:\n",
    "    input_data = json.load(infile)\n",
    "df = pd.DataFrame(input_data).T\n",
    "df[\"calculated\"] = df.apply(lambda x: x[\"a\"]* x[\"b\"], axis=1)\n",
    "df[\"cumulative\"] = df[\"calculated\"].cumsum()"
   ]
  },
  {
   "cell_type": "code",
   "execution_count": 3,
   "metadata": {},
   "outputs": [],
   "source": [
    "def final_step_footprinting(df: pd.DataFrame, input_data: json) -> pd.DataFrame:\n",
    "    df1 = pd.DataFrame(columns=[\"result\", \"proof_size\", \"seconds\", \"response\"])\n",
    "    method_payload = {}\n",
    "    for i in tqdm(range(0, len(df.index))):\n",
    "        method_payload[df.index[i]] = input_data[df.index[i]]\n",
    "        with poamlib.experiment_timer() as elapsed:\n",
    "            response, proof_size = poamlib.combined_request(json.dumps(method_payload))\n",
    "            result = response[\"verificationValue\"]\n",
    "            time = elapsed()\n",
    "            df1 = pd.concat([df1, pd.DataFrame({df.index[i]:{ \"result\": result, \"proof_size\": proof_size, \"seconds\": time, \"response\": response}}).T])\n",
    "            #print(f\"Experiment {i} took {time} seconds and yeilded a result of {result} with a proof size of {proof_size}\")\n",
    "    return pd.concat([df.copy(), df1], axis=1)"
   ]
  },
  {
   "cell_type": "code",
   "execution_count": 4,
   "metadata": {},
   "outputs": [],
   "source": [
    "def activity_footprinting_unchained(df: pd.DataFrame, input_data: json)-> pd.DataFrame: \n",
    "    df1 = pd.DataFrame(columns=[\"result\", \"proof_size\", \"seconds\", \"response\"])\n",
    "    for i in tqdm(range(0, len(df.index))):\n",
    "        method_payload = json.dumps({\n",
    "            \"a\": df.loc[df.index[i]][\"a\"],\n",
    "            \"b\": df.loc[df.index[i]][\"b\"],\n",
    "            \"operation\":df.loc[df.index[i]][\"operation\"]\n",
    "            })\n",
    "        with poamlib.experiment_timer() as elapsed:\n",
    "            response, proof_size = poamlib.proof_request(method_payload)\n",
    "            result = response[\"verificationValue\"]\n",
    "            time = elapsed()\n",
    "            df1 = pd.concat([df1, pd.DataFrame({df.index[i]:{ \"result\": result, \"proof_size\": proof_size, \"seconds\": time, \"response\": response}}).T])\n",
    "            #print(f\"Experiment {i} took {time} seconds and yeilded a result of {result} with a proof size of {proof_size}\")\n",
    "    return pd.concat([df.copy(), df1], axis=1)"
   ]
  },
  {
   "cell_type": "code",
   "execution_count": 5,
   "metadata": {},
   "outputs": [],
   "source": [
    "def composition_footprinting_unchained(df_clean:pd.DataFrame, df: pd.DataFrame)->pd.DataFrame:\n",
    "    df1 = pd.DataFrame(columns=[\"result\", \"proof_size\", \"seconds\", \"response\"])\n",
    "    proof_chain = []\n",
    "    for i in tqdm(range(0, len(df.index))):\n",
    "        input_data = df.loc[df.index[i]][\"response\"]\n",
    "        proof_chain.append(poam_pb2.Proof(\n",
    "                    image_id = input_data[\"proof\"][\"imageId\"],\n",
    "                    receipt = base64.b64decode(input_data[\"proof\"][\"receipt\"].encode(\"utf-8\"))\n",
    "                ))\n",
    "        with poamlib.experiment_timer() as elapsed:\n",
    "            response, proof_size = poamlib.compose_request(proof_chain)\n",
    "            result = response[\"verificationValue\"]\n",
    "            time = elapsed()\n",
    "            df1 = pd.concat([df1, pd.DataFrame({df.index[i]:{ \"result\": result, \"proof_size\": proof_size, \"seconds\": time, \"response\": response}}).T])\n",
    "            #print(f\"Experiment {i} took {time} seconds and yeilded a result of {result} with a proof size of {proof_size}\")\n",
    "    return pd.concat([df_clean.copy(), df1], axis=1)"
   ]
  },
  {
   "cell_type": "code",
   "execution_count": 6,
   "metadata": {},
   "outputs": [],
   "source": [
    "def activity_footprinting_chained(df: pd.DataFrame, input_data: json)-> pd.DataFrame:   \n",
    "    df1 = pd.DataFrame(columns=[\"result\", \"proof_size\", \"seconds\", \"response\"])\n",
    "    previous = None\n",
    "    chained = False\n",
    "    for i in tqdm(range(0, len(df.index))):\n",
    "        method_payload = json.dumps({\n",
    "            \"a\": df.loc[df.index[i]][\"a\"],\n",
    "            \"b\": df.loc[df.index[i]][\"b\"],\n",
    "            \"operation\":df.loc[df.index[i]][\"operation\"]\n",
    "            })\n",
    "        if i > 0:\n",
    "            previous = df1.loc[df.index[i-1]][\"response\"]\n",
    "            chained = True\n",
    "        with poamlib.experiment_timer() as elapsed:\n",
    "            response, proof_size = poamlib.proof_request(method_payload, previous, chained)\n",
    "            result = response[\"verificationValue\"]\n",
    "            time = elapsed()\n",
    "            df1 = pd.concat([df1, pd.DataFrame({df.index[i]:{ \"result\": result, \"proof_size\": proof_size, \"seconds\": time, \"response\": response}}).T])\n",
    "            #print(f\"Experiment {i} took {time} seconds and yeilded a result of {result} with a proof size of {proof_size}\")\n",
    "    return pd.concat([df.copy(), df1], axis=1)"
   ]
  },
  {
   "cell_type": "code",
   "execution_count": 7,
   "metadata": {},
   "outputs": [],
   "source": [
    "def proof_verification(df: pd.DataFrame)-> pd.DataFrame:\n",
    "    df1 = pd.DataFrame(columns=[\"verified_value\", \"valid\", \"verification_seconds\"])\n",
    "    for i in tqdm(range(0, len(df.index))):\n",
    "        response = df.loc[df.index[i]][\"response\"]\n",
    "        proof = poam_pb2.Proof(\n",
    "                image_id = response[\"proof\"][\"imageId\"],\n",
    "                receipt = base64.b64decode(response[\"proof\"][\"receipt\"].encode(\"utf-8\"))\n",
    "            )\n",
    "        with poamlib.experiment_timer() as elapsed:\n",
    "            valid, result = poamlib.verify_request(proof)\n",
    "            time = elapsed()\n",
    "            df1 = pd.concat([df1, pd.DataFrame({df.index[i]:{ \"verified_value\": result, \"valid\": valid, \"verification_seconds\": time}}).T])\n",
    "        \n",
    "            #print(f\"Experiment {i} took {time} seconds and yeilded a result of {result} with a proof size of {proof_size}\")\n",
    "    return pd.concat([df.copy(), df1], axis=1)"
   ]
  },
  {
   "cell_type": "code",
   "execution_count": 8,
   "metadata": {},
   "outputs": [],
   "source": [
    "folder = \"results/debug/\""
   ]
  },
  {
   "cell_type": "code",
   "execution_count": 9,
   "metadata": {},
   "outputs": [
    {
     "name": "stderr",
     "output_type": "stream",
     "text": [
      "100%|██████████| 100/100 [00:06<00:00, 14.79it/s]\n"
     ]
    }
   ],
   "source": [
    "df_final = final_step_footprinting(df, input_data)\n",
    "df_final.to_csv(f\"{folder}final_step_footprinting.csv\", sep=\";\")"
   ]
  },
  {
   "cell_type": "code",
   "execution_count": 10,
   "metadata": {},
   "outputs": [
    {
     "name": "stderr",
     "output_type": "stream",
     "text": [
      "100%|██████████| 100/100 [00:06<00:00, 14.37it/s]\n"
     ]
    }
   ],
   "source": [
    "df_unchained = activity_footprinting_unchained(df, input_data)\n",
    "df_unchained.to_csv(f\"{folder}activity_footprinting_unchained.csv\", sep=\";\")"
   ]
  },
  {
   "cell_type": "code",
   "execution_count": 11,
   "metadata": {},
   "outputs": [
    {
     "name": "stderr",
     "output_type": "stream",
     "text": [
      "100%|██████████| 100/100 [05:41<00:00,  3.41s/it]\n"
     ]
    }
   ],
   "source": [
    "df_composition_unchained = composition_footprinting_unchained(df, df_unchained)\n",
    "df_composition_unchained.to_csv(f\"{folder}composition_footprinting_unchained.csv\", sep=\";\")"
   ]
  },
  {
   "cell_type": "code",
   "execution_count": 12,
   "metadata": {},
   "outputs": [
    {
     "name": "stderr",
     "output_type": "stream",
     "text": [
      "100%|██████████| 100/100 [00:00<00:00, 360.69it/s]\n"
     ]
    }
   ],
   "source": [
    "df_verified = proof_verification(df_composition_unchained)\n",
    "df_verified.to_csv(f\"{folder}proof_verification.csv\", sep=\";\")"
   ]
  },
  {
   "cell_type": "code",
   "execution_count": 13,
   "metadata": {},
   "outputs": [
    {
     "name": "stderr",
     "output_type": "stream",
     "text": [
      "100%|██████████| 100/100 [00:07<00:00, 13.49it/s]\n"
     ]
    }
   ],
   "source": [
    "df_chained = activity_footprinting_chained(df, input_data)\n",
    "df_chained.to_csv(f\"{folder}activity_footprinting_chained.csv\", sep=\";\")"
   ]
  }
 ],
 "metadata": {
  "kernelspec": {
   "display_name": "env",
   "language": "python",
   "name": "python3"
  },
  "language_info": {
   "codemirror_mode": {
    "name": "ipython",
    "version": 3
   },
   "file_extension": ".py",
   "mimetype": "text/x-python",
   "name": "python",
   "nbconvert_exporter": "python",
   "pygments_lexer": "ipython3",
   "version": "3.13.1"
  }
 },
 "nbformat": 4,
 "nbformat_minor": 2
}
