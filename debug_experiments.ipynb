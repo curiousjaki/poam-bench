{
 "cells": [
  {
   "cell_type": "code",
   "execution_count": null,
   "metadata": {},
   "outputs": [],
   "source": [
    "from experiments import final_step_footprinting, activity_footprinting_chained,  activity_footprinting_unchained, composition_footprinting_unchained, proof_verification\n",
    "import json\n",
    "import pandas as pd"
   ]
  },
  {
   "cell_type": "code",
   "execution_count": null,
   "metadata": {},
   "outputs": [],
   "source": [
    "with open(\"experiments.json\", \"r\") as infile:\n",
    "    input_data = json.load(infile)\n",
    "df = pd.DataFrame(input_data).T\n",
    "df[\"calculated\"] = df.apply(lambda x: x[\"a\"]* x[\"b\"], axis=1)\n",
    "df[\"cumulative\"] = df[\"calculated\"].cumsum()"
   ]
  },
  {
   "cell_type": "code",
   "execution_count": null,
   "metadata": {},
   "outputs": [],
   "source": [
    "folder = \"results/debug/\""
   ]
  },
  {
   "cell_type": "code",
   "execution_count": 2,
   "metadata": {},
   "outputs": [
    {
     "ename": "NameError",
     "evalue": "name 'final_step_footprinting' is not defined",
     "output_type": "error",
     "traceback": [
      "\u001b[31m---------------------------------------------------------------------------\u001b[39m",
      "\u001b[31mNameError\u001b[39m                                 Traceback (most recent call last)",
      "\u001b[36mCell\u001b[39m\u001b[36m \u001b[39m\u001b[32mIn[2]\u001b[39m\u001b[32m, line 1\u001b[39m\n\u001b[32m----> \u001b[39m\u001b[32m1\u001b[39m df_final = \u001b[43mfinal_step_footprinting\u001b[49m(df, input_data)\n\u001b[32m      2\u001b[39m df_final.to_csv(\u001b[33mf\u001b[39m\u001b[33m\"\u001b[39m\u001b[38;5;132;01m{\u001b[39;00mfolder\u001b[38;5;132;01m}\u001b[39;00m\u001b[33mfinal_step_footprinting.csv\u001b[39m\u001b[33m\"\u001b[39m, sep=\u001b[33m\"\u001b[39m\u001b[33m;\u001b[39m\u001b[33m\"\u001b[39m)\n",
      "\u001b[31mNameError\u001b[39m: name 'final_step_footprinting' is not defined"
     ]
    }
   ],
   "source": [
    "df_final = final_step_footprinting(df, input_data)\n",
    "df_final.to_csv(f\"{folder}final_step_footprinting.csv\", sep=\";\")"
   ]
  },
  {
   "cell_type": "code",
   "execution_count": null,
   "metadata": {},
   "outputs": [
    {
     "name": "stderr",
     "output_type": "stream",
     "text": [
      "100%|██████████| 100/100 [00:06<00:00, 14.37it/s]\n"
     ]
    }
   ],
   "source": [
    "df_unchained = activity_footprinting_unchained(df, input_data)\n",
    "df_unchained.to_csv(f\"{folder}activity_footprinting_unchained.csv\", sep=\";\")"
   ]
  },
  {
   "cell_type": "code",
   "execution_count": null,
   "metadata": {},
   "outputs": [
    {
     "name": "stderr",
     "output_type": "stream",
     "text": [
      "100%|██████████| 100/100 [05:41<00:00,  3.41s/it]\n"
     ]
    }
   ],
   "source": [
    "df_composition_unchained = composition_footprinting_unchained(df, df_unchained)\n",
    "df_composition_unchained.to_csv(f\"{folder}composition_footprinting_unchained.csv\", sep=\";\")"
   ]
  },
  {
   "cell_type": "code",
   "execution_count": null,
   "metadata": {},
   "outputs": [
    {
     "name": "stderr",
     "output_type": "stream",
     "text": [
      "100%|██████████| 100/100 [00:00<00:00, 360.69it/s]\n"
     ]
    }
   ],
   "source": [
    "df_verified = proof_verification(df_composition_unchained)\n",
    "df_verified.to_csv(f\"{folder}proof_verification.csv\", sep=\";\")"
   ]
  },
  {
   "cell_type": "code",
   "execution_count": null,
   "metadata": {},
   "outputs": [
    {
     "name": "stderr",
     "output_type": "stream",
     "text": [
      "100%|██████████| 100/100 [00:07<00:00, 13.49it/s]\n"
     ]
    }
   ],
   "source": [
    "df_chained = activity_footprinting_chained(df, input_data)\n",
    "df_chained.to_csv(f\"{folder}activity_footprinting_chained.csv\", sep=\";\")"
   ]
  }
 ],
 "metadata": {
  "kernelspec": {
   "display_name": "env",
   "language": "python",
   "name": "python3"
  },
  "language_info": {
   "codemirror_mode": {
    "name": "ipython",
    "version": 3
   },
   "file_extension": ".py",
   "mimetype": "text/x-python",
   "name": "python",
   "nbconvert_exporter": "python",
   "pygments_lexer": "ipython3",
   "version": "3.13.1"
  }
 },
 "nbformat": 4,
 "nbformat_minor": 2
}
