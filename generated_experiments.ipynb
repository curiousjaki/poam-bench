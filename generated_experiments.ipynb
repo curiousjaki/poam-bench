{
 "cells": [
  {
   "cell_type": "code",
   "execution_count": 12,
   "metadata": {},
   "outputs": [],
   "source": [
    "from experiments import final_step_footprinting, activity_footprinting_chained,  activity_footprinting_unchained, composition_footprinting_unchained, proof_verification\n",
    "import json\n",
    "import pandas as pd"
   ]
  },
  {
   "cell_type": "code",
   "execution_count": 13,
   "metadata": {},
   "outputs": [],
   "source": [
    "with open(\"experiments.json\", \"r\") as infile:\n",
    "    input_data = json.load(infile)\n",
    "df = pd.DataFrame(input_data).T\n",
    "df[\"calculated\"] = df.apply(lambda x: x[\"a\"]* x[\"b\"], axis=1)\n",
    "df[\"cumulative\"] = df[\"calculated\"].cumsum()"
   ]
  },
  {
   "cell_type": "code",
   "execution_count": 14,
   "metadata": {},
   "outputs": [],
   "source": [
    "folder = \"results/generated/\""
   ]
  },
  {
   "cell_type": "code",
   "execution_count": 15,
   "metadata": {},
   "outputs": [
    {
     "name": "stderr",
     "output_type": "stream",
     "text": [
      "100%|██████████| 31/31 [03:41<00:00,  7.14s/it]\n"
     ]
    }
   ],
   "source": [
    "df_chained = activity_footprinting_chained(df, input_data)\n",
    "df_chained.to_csv(f\"{folder}activity_footprinting_chained.csv\", sep=\";\")"
   ]
  },
  {
   "cell_type": "code",
   "execution_count": 16,
   "metadata": {},
   "outputs": [
    {
     "name": "stderr",
     "output_type": "stream",
     "text": [
      "100%|██████████| 31/31 [03:21<00:00,  6.50s/it]\n"
     ]
    }
   ],
   "source": [
    "df_final = final_step_footprinting(df, input_data)\n",
    "df_final.to_csv(f\"{folder}final_step_footprinting.csv\", sep=\";\")"
   ]
  },
  {
   "cell_type": "code",
   "execution_count": 17,
   "metadata": {},
   "outputs": [
    {
     "name": "stderr",
     "output_type": "stream",
     "text": [
      "100%|██████████| 31/31 [03:20<00:00,  6.47s/it]\n"
     ]
    }
   ],
   "source": [
    "df_unchained = activity_footprinting_unchained(df, input_data)\n",
    "df_unchained.to_csv(f\"{folder}activity_footprinting_unchained.csv\", sep=\";\")"
   ]
  },
  {
   "cell_type": "code",
   "execution_count": 18,
   "metadata": {},
   "outputs": [
    {
     "name": "stderr",
     "output_type": "stream",
     "text": [
      " 58%|█████▊    | 18/31 [18:07<23:45, 109.65s/it]E0000 00:00:1741599755.538484 1729129 tcp_posix.cc:593] recvmsg encountered uncommon error: Message too long\n",
      " 65%|██████▍   | 20/31 [23:01<23:43, 129.37s/it]E0000 00:00:1741600075.499825 1729129 tcp_posix.cc:593] recvmsg encountered uncommon error: Message too long\n",
      " 68%|██████▊   | 21/31 [25:47<23:22, 140.27s/it]E0000 00:00:1741600242.846710 1729129 tcp_posix.cc:593] recvmsg encountered uncommon error: Message too long\n",
      " 84%|████████▍ | 26/31 [41:21<15:16, 183.26s/it]E0000 00:00:1741601215.966667 1729129 tcp_posix.cc:593] recvmsg encountered uncommon error: Message too long\n",
      " 87%|████████▋ | 27/31 [44:48<12:41, 190.36s/it]E0000 00:00:1741601432.360293 1729129 tcp_posix.cc:593] recvmsg encountered uncommon error: Message too long\n",
      " 90%|█████████ | 28/31 [48:24<09:54, 198.17s/it]E0000 00:00:1741601663.146872 1729129 tcp_posix.cc:593] recvmsg encountered uncommon error: Message too long\n",
      "100%|██████████| 31/31 [1:00:14<00:00, 116.61s/it]\n"
     ]
    }
   ],
   "source": [
    "df_composition_unchained = composition_footprinting_unchained(df, df_unchained)\n",
    "df_composition_unchained.to_csv(f\"{folder}composition_footprinting_unchained.csv\", sep=\";\")"
   ]
  },
  {
   "cell_type": "code",
   "execution_count": 19,
   "metadata": {},
   "outputs": [
    {
     "name": "stderr",
     "output_type": "stream",
     "text": [
      "100%|██████████| 31/31 [00:12<00:00,  2.47it/s]\n"
     ]
    }
   ],
   "source": [
    "df_verified = proof_verification(df_composition_unchained)\n",
    "df_verified.to_csv(f\"{folder}proof_verification.csv\", sep=\";\")"
   ]
  }
 ],
 "metadata": {
  "kernelspec": {
   "display_name": "env",
   "language": "python",
   "name": "python3"
  },
  "language_info": {
   "codemirror_mode": {
    "name": "ipython",
    "version": 3
   },
   "file_extension": ".py",
   "mimetype": "text/x-python",
   "name": "python",
   "nbconvert_exporter": "python",
   "pygments_lexer": "ipython3",
   "version": "3.13.1"
  }
 },
 "nbformat": 4,
 "nbformat_minor": 2
}
