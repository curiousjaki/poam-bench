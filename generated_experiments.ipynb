{
 "cells": [
  {
   "cell_type": "code",
   "execution_count": 1,
   "metadata": {},
   "outputs": [],
   "source": [
    "from experiments import final_step_footprinting, activity_footprinting_chained,  activity_footprinting_unchained, composition_footprinting_unchained, proof_verification\n",
    "import json\n",
    "import pandas as pd"
   ]
  },
  {
   "cell_type": "code",
   "execution_count": 2,
   "metadata": {},
   "outputs": [],
   "source": [
    "with open(\"experiments.json\", \"r\") as infile:\n",
    "    input_data = json.load(infile)\n",
    "df = pd.DataFrame(input_data).T\n",
    "df[\"calculated\"] = df.apply(lambda x: x[\"a\"]* x[\"b\"], axis=1)\n",
    "df[\"cumulative\"] = df[\"calculated\"].cumsum()"
   ]
  },
  {
   "cell_type": "code",
   "execution_count": 3,
   "metadata": {},
   "outputs": [],
   "source": [
    "folder = \"results/generated/\""
   ]
  },
  {
   "cell_type": "code",
   "execution_count": 4,
   "metadata": {},
   "outputs": [
    {
     "name": "stderr",
     "output_type": "stream",
     "text": [
      "  0%|          | 0/100 [00:00<?, ?it/s]"
     ]
    },
    {
     "name": "stderr",
     "output_type": "stream",
     "text": [
      "  0%|          | 0/100 [00:20<?, ?it/s]"
     ]
    },
    {
     "name": "stdout",
     "output_type": "stream",
     "text": [
      "gRPC error: failed to connect to all addresses; last error: UNKNOWN: ipv6:%5B::1%5D:50051: connection attempt timed out before receiving SETTINGS frame\n"
     ]
    },
    {
     "name": "stderr",
     "output_type": "stream",
     "text": [
      "\n"
     ]
    },
    {
     "ename": "TypeError",
     "evalue": "cannot unpack non-iterable NoneType object",
     "output_type": "error",
     "traceback": [
      "\u001b[31m---------------------------------------------------------------------------\u001b[39m",
      "\u001b[31mTypeError\u001b[39m                                 Traceback (most recent call last)",
      "\u001b[36mCell\u001b[39m\u001b[36m \u001b[39m\u001b[32mIn[4]\u001b[39m\u001b[32m, line 1\u001b[39m\n\u001b[32m----> \u001b[39m\u001b[32m1\u001b[39m df_final = \u001b[43mfinal_step_footprinting\u001b[49m\u001b[43m(\u001b[49m\u001b[43mdf\u001b[49m\u001b[43m,\u001b[49m\u001b[43m \u001b[49m\u001b[43minput_data\u001b[49m\u001b[43m)\u001b[49m\n\u001b[32m      2\u001b[39m df_final.to_csv(\u001b[33mf\u001b[39m\u001b[33m\"\u001b[39m\u001b[38;5;132;01m{\u001b[39;00mfolder\u001b[38;5;132;01m}\u001b[39;00m\u001b[33mfinal_step_footprinting.csv\u001b[39m\u001b[33m\"\u001b[39m, sep=\u001b[33m\"\u001b[39m\u001b[33m;\u001b[39m\u001b[33m\"\u001b[39m)\n",
      "\u001b[36mFile \u001b[39m\u001b[32m~/Git/poam-bench/experiments.py:14\u001b[39m, in \u001b[36mfinal_step_footprinting\u001b[39m\u001b[34m(df, input_data)\u001b[39m\n\u001b[32m     12\u001b[39m method_payload[df.index[i]] = input_data[df.index[i]]\n\u001b[32m     13\u001b[39m \u001b[38;5;28;01mwith\u001b[39;00m poamlib.experiment_timer() \u001b[38;5;28;01mas\u001b[39;00m elapsed:\n\u001b[32m---> \u001b[39m\u001b[32m14\u001b[39m     response, proof_size = poamlib.combined_request(json.dumps(method_payload))\n\u001b[32m     15\u001b[39m     result = response[\u001b[33m\"\u001b[39m\u001b[33mverificationValue\u001b[39m\u001b[33m\"\u001b[39m]\n\u001b[32m     16\u001b[39m     time = elapsed()\n",
      "\u001b[31mTypeError\u001b[39m: cannot unpack non-iterable NoneType object"
     ]
    }
   ],
   "source": [
    "df_final = final_step_footprinting(df, input_data)\n",
    "df_final.to_csv(f\"{folder}final_step_footprinting.csv\", sep=\";\")"
   ]
  },
  {
   "cell_type": "code",
   "execution_count": null,
   "metadata": {},
   "outputs": [
    {
     "name": "stderr",
     "output_type": "stream",
     "text": [
      "100%|██████████| 100/100 [00:06<00:00, 14.37it/s]\n"
     ]
    }
   ],
   "source": [
    "df_unchained = activity_footprinting_unchained(df, input_data)\n",
    "df_unchained.to_csv(f\"{folder}activity_footprinting_unchained.csv\", sep=\";\")"
   ]
  },
  {
   "cell_type": "code",
   "execution_count": null,
   "metadata": {},
   "outputs": [
    {
     "name": "stderr",
     "output_type": "stream",
     "text": [
      "100%|██████████| 100/100 [05:41<00:00,  3.41s/it]\n"
     ]
    }
   ],
   "source": [
    "df_composition_unchained = composition_footprinting_unchained(df, df_unchained)\n",
    "df_composition_unchained.to_csv(f\"{folder}composition_footprinting_unchained.csv\", sep=\";\")"
   ]
  },
  {
   "cell_type": "code",
   "execution_count": null,
   "metadata": {},
   "outputs": [
    {
     "name": "stderr",
     "output_type": "stream",
     "text": [
      "100%|██████████| 100/100 [00:00<00:00, 360.69it/s]\n"
     ]
    }
   ],
   "source": [
    "df_verified = proof_verification(df_composition_unchained)\n",
    "df_verified.to_csv(f\"{folder}proof_verification.csv\", sep=\";\")"
   ]
  },
  {
   "cell_type": "code",
   "execution_count": null,
   "metadata": {},
   "outputs": [
    {
     "name": "stderr",
     "output_type": "stream",
     "text": [
      "100%|██████████| 100/100 [00:07<00:00, 13.49it/s]\n"
     ]
    }
   ],
   "source": [
    "df_chained = activity_footprinting_chained(df, input_data)\n",
    "df_chained.to_csv(f\"{folder}activity_footprinting_chained.csv\", sep=\";\")"
   ]
  }
 ],
 "metadata": {
  "kernelspec": {
   "display_name": "env",
   "language": "python",
   "name": "python3"
  },
  "language_info": {
   "codemirror_mode": {
    "name": "ipython",
    "version": 3
   },
   "file_extension": ".py",
   "mimetype": "text/x-python",
   "name": "python",
   "nbconvert_exporter": "python",
   "pygments_lexer": "ipython3",
   "version": "3.13.1"
  }
 },
 "nbformat": 4,
 "nbformat_minor": 2
}
